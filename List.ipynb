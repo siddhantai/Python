{
 "cells": [
  {
   "cell_type": "markdown",
   "metadata": {},
   "source": [
    "# List"
   ]
  },
  {
   "cell_type": "raw",
   "metadata": {},
   "source": [
    "# List is collection of objects"
   ]
  },
  {
   "cell_type": "code",
   "execution_count": 4,
   "metadata": {},
   "outputs": [
    {
     "name": "stdout",
     "output_type": "stream",
     "text": [
      "[1, 5, 8, 10, 90, 83, 96, 1000]\n"
     ]
    }
   ],
   "source": [
    "#append\n",
    "a=[1,5,8,10,90,83,96]\n",
    "a.append(1000)\n",
    "print(a)"
   ]
  },
  {
   "cell_type": "code",
   "execution_count": 13,
   "metadata": {},
   "outputs": [
    {
     "name": "stdout",
     "output_type": "stream",
     "text": [
      "[45, 65, 84, 13, 5, 52, 100]\n",
      "[152, 89, 72, 56, 41, 32, 25, 58, 87, 26, 56, 25, 41]\n",
      "[100, 200, 300, 400, 0, 1, 2, 3, 4]\n"
     ]
    }
   ],
   "source": [
    "#extend\n",
    "x=[45,65,84,13,5,52]\n",
    "y=[100]\n",
    "x.extend(y)\n",
    "print(x)\n",
    "\n",
    "c=[152,89,72,56,41,32,25]\n",
    "b=[58,87,26,56,25,41]\n",
    "c.extend(b)\n",
    "print(c)\n",
    "\n",
    "e=[100,200,300,400]\n",
    "e.extend(range(5))\n",
    "print(e)"
   ]
  },
  {
   "cell_type": "code",
   "execution_count": 30,
   "metadata": {},
   "outputs": [
    {
     "name": "stdout",
     "output_type": "stream",
     "text": [
      "[50, 1, 2, 3, 4, 5, 6, 7, 8, 9, 'ok by']\n"
     ]
    }
   ],
   "source": [
    "#insert\n",
    "z=[1,2,3,4,5,6,7,8,9]\n",
    "z.insert(0,50)\n",
    "z.insert(10,'ok by')\n",
    "print(z)"
   ]
  },
  {
   "cell_type": "code",
   "execution_count": 31,
   "metadata": {},
   "outputs": [
    {
     "name": "stdout",
     "output_type": "stream",
     "text": [
      "[5, 8, 9, 2, 10]\n",
      "[5, 8, 9, 2, 10]\n"
     ]
    }
   ],
   "source": [
    "#copy\n",
    "d=[5,8,9,2,10]\n",
    "print(d)\n",
    "\n",
    "f=d.copy()\n",
    "print(f)\n"
   ]
  },
  {
   "cell_type": "code",
   "execution_count": 32,
   "metadata": {},
   "outputs": [
    {
     "name": "stdout",
     "output_type": "stream",
     "text": [
      "9\n",
      "[1, 2, 3, 4, 5, 6, 7, 8]\n"
     ]
    }
   ],
   "source": [
    "#pop\n",
    "z=[1,2,3,4,5,6,7,8,9]\n",
    "print(z.pop())\n",
    "print(z)"
   ]
  },
  {
   "cell_type": "code",
   "execution_count": 35,
   "metadata": {},
   "outputs": [
    {
     "name": "stdout",
     "output_type": "stream",
     "text": [
      "[1, 2, 500, 3, 4, 5, 6, 7, 100, 8, 9]\n"
     ]
    }
   ],
   "source": [
    "#remove\n",
    "z=[1,2,500,3,4,200,5,6,7,100,8,9]\n",
    "z.remove(200)\n",
    "print(z)"
   ]
  },
  {
   "cell_type": "code",
   "execution_count": 40,
   "metadata": {},
   "outputs": [
    {
     "name": "stdout",
     "output_type": "stream",
     "text": [
      "[]\n"
     ]
    }
   ],
   "source": [
    "#clear\n",
    "z=[1,2,3,4,5,6,7,8,9]\n",
    "z.clear()\n",
    "print(z)"
   ]
  },
  {
   "cell_type": "code",
   "execution_count": 37,
   "metadata": {},
   "outputs": [
    {
     "name": "stdout",
     "output_type": "stream",
     "text": [
      "13\n"
     ]
    }
   ],
   "source": [
    "#length\n",
    "z=[1,2,3,4,5,6,7,8,9,200,300,400,500]\n",
    "print(len(z))"
   ]
  },
  {
   "cell_type": "code",
   "execution_count": 38,
   "metadata": {},
   "outputs": [
    {
     "data": {
      "text/plain": [
       "1"
      ]
     },
     "execution_count": 38,
     "metadata": {},
     "output_type": "execute_result"
    }
   ],
   "source": [
    "#count\n",
    "z=[1,2,3,4,5,6,7,8,9]\n",
    "z.count(8)"
   ]
  },
  {
   "cell_type": "code",
   "execution_count": 41,
   "metadata": {},
   "outputs": [
    {
     "data": {
      "text/plain": [
       "5"
      ]
     },
     "execution_count": 41,
     "metadata": {},
     "output_type": "execute_result"
    }
   ],
   "source": [
    "#index\n",
    "h=[5,78,6,52,10,100,2,1]\n",
    "h.index(100)"
   ]
  },
  {
   "cell_type": "code",
   "execution_count": 44,
   "metadata": {},
   "outputs": [
    {
     "name": "stdout",
     "output_type": "stream",
     "text": [
      "[1, 2, 5, 6, 10, 52, 78, 100]\n"
     ]
    }
   ],
   "source": [
    "#sort\n",
    "h=[5,78,6,52,10,100,2,1]\n",
    "h.sort()\n",
    "print(h)"
   ]
  },
  {
   "cell_type": "code",
   "execution_count": 46,
   "metadata": {},
   "outputs": [
    {
     "name": "stdout",
     "output_type": "stream",
     "text": [
      "[700, 600, 500, 400, 300, 200, 100]\n"
     ]
    }
   ],
   "source": [
    "#reverse\n",
    "w=[100,200,300,400,500,600,700]\n",
    "w.reverse()\n",
    "print(w)"
   ]
  },
  {
   "cell_type": "code",
   "execution_count": 55,
   "metadata": {},
   "outputs": [
    {
     "name": "stdout",
     "output_type": "stream",
     "text": [
      "[100, 200, 300]\n",
      "[400, 500, 600, 700]\n",
      "[200, 400, 600]\n",
      "[100, 400, 700]\n"
     ]
    }
   ],
   "source": [
    "#slicing\n",
    "w=[100,200,300,400,500,600,700]\n",
    "print(w[0:3])\n",
    "print(w[3:7])\n",
    "print(w[1::2])\n",
    "print(w[0::3])"
   ]
  },
  {
   "cell_type": "code",
   "execution_count": 58,
   "metadata": {},
   "outputs": [
    {
     "name": "stdout",
     "output_type": "stream",
     "text": [
      "[5, 13, 6, 52, 10, 100, 2, 1]\n"
     ]
    }
   ],
   "source": [
    "#its mutable\n",
    "h=[5,78,6,52,10,100,2,1]\n",
    "h[1]=13\n",
    "print(h)"
   ]
  }
 ],
 "metadata": {
  "kernelspec": {
   "display_name": "Python 3",
   "language": "python",
   "name": "python3"
  },
  "language_info": {
   "codemirror_mode": {
    "name": "ipython",
    "version": 3
   },
   "file_extension": ".py",
   "mimetype": "text/x-python",
   "name": "python",
   "nbconvert_exporter": "python",
   "pygments_lexer": "ipython3",
   "version": "3.7.3"
  }
 },
 "nbformat": 4,
 "nbformat_minor": 2
}
